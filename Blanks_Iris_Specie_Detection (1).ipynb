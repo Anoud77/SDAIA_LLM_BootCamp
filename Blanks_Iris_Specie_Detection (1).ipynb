{
  "nbformat": 4,
  "nbformat_minor": 0,
  "metadata": {
    "colab": {
      "provenance": []
    },
    "kernelspec": {
      "name": "python3",
      "display_name": "Python 3"
    }
  },
  "cells": [
    {
      "cell_type": "markdown",
      "metadata": {
        "id": "Gp6PucwEE125"
      },
      "source": [
        "#Binary and Multi-class classification\n",
        "---\n",
        "\n",
        "\n",
        "**Objective:** This notebook is comprised of two independent exercises: a multi-classication with Iris flower data and a binary classification with sonar data. The objective of the first exercise is to prepare data for a multiclassification model and training it. For the second, We will train and evaluate a binary classification model and learn how to apply standardization on a dataset and create a pipeline for evaluation of models."
      ]
    },
    {
      "cell_type": "markdown",
      "metadata": {
        "id": "y_iWbkG3Dov4"
      },
      "source": [
        "## Multi-class classification with Iris Dataset"
      ]
    },
    {
      "cell_type": "markdown",
      "metadata": {
        "id": "x3PehS5h75-e"
      },
      "source": [
        "### 1. Load data\n",
        "\n",
        "In this notebook, we are going to use the **Iris flower** dataset. This is another standard machine learning dataset from the UCI Machine Learning repository. Each instance describes the properties of an observed flower measurements and the output variable is specific iris species.\n",
        "\n",
        "This is a multi-class classification problem, meaning that there are more than two classes to be predicted, in fact there are three flower species.\n",
        "\n",
        "The variables can be summarized as follows:\n",
        "\n",
        "**Input Variables (X):**\n",
        "\n",
        "\n",
        "1. Sepal length in cm\n",
        "2. Sepal width in cm\n",
        "3. Petal length in cm\n",
        "4. Petal width in cm\n",
        "\n",
        "**Output Variable (Y):**\n",
        "\n",
        "*   Class:\n",
        " - Iris Setosa\n",
        " - Iris Versicolour\n",
        " - Iris Virginica\n",
        "\n",
        "\n"
      ]
    },
    {
      "cell_type": "code",
      "metadata": {
        "id": "6493eiB-71lx"
      },
      "source": [
        "from pandas import read_csv\n",
        "\n",
        "# load dataset\n",
        "dataframe = read_csv('/content/iris.csv')\n",
        "dataset = dataframe.values\n",
        "\n",
        "# split X and Y features\n",
        "X = dataframe.iloc[:, :-1]\n",
        "Y = dataframe.iloc[:, -1]\n"
      ],
      "execution_count": 14,
      "outputs": []
    },
    {
      "cell_type": "markdown",
      "metadata": {
        "id": "WQbqVaPU914x"
      },
      "source": [
        "### 2. Encode the output variable\n"
      ]
    },
    {
      "cell_type": "code",
      "metadata": {
        "id": "ME2DAz4k94SB"
      },
      "source": [
        "from sklearn.preprocessing import LabelEncoder\n",
        "from tensorflow.keras.utils import to_categorical\n",
        "\n",
        "# encode class values as integers\n",
        "label_encoder = LabelEncoder()\n",
        "Y_encoded = label_encoder.fit_transform(Y)\n",
        "\n",
        "# convert integers to dummy variables (i.e. one hot encoded)\n",
        "Y_one_hot = to_categorical(Y_encoded)\n"
      ],
      "execution_count": 15,
      "outputs": []
    },
    {
      "cell_type": "markdown",
      "metadata": {
        "id": "a-4v8_6v-BDj"
      },
      "source": [
        "### 3. Define Keras Model\n",
        "\n",
        "Create a Keras Sequential model that has 1 hidden layers, with the `relu` activation function.\n",
        "\n",
        "We should define a `create_model()` funtion that will create the model, compile it and return it."
      ]
    },
    {
      "cell_type": "code",
      "metadata": {
        "id": "t9GhvIx0973_"
      },
      "source": [
        "from tensorflow.keras.models import Sequential\n",
        "from tensorflow.keras.layers import Dense\n",
        "\n",
        "# define baseline model\n",
        "def create_model():\n",
        "\tmodel = Sequential()\n",
        "\tmodel.add(Dense(10, input_dim=4, activation='relu'))\n",
        "\tmodel.add(Dense(3, activation='softmax'))\n",
        "\n",
        "\t# Compile model\n",
        "\tmodel.compile(optimizer='sgd', loss='categorical_crossentropy', metrics=['accuracy'])\n",
        "\n",
        "\n",
        "\treturn model"
      ],
      "execution_count": 16,
      "outputs": []
    },
    {
      "cell_type": "markdown",
      "metadata": {
        "id": "Sbapy2_R-ohc"
      },
      "source": [
        "### 4. Train Model\n",
        "\n",
        "Let's train the model for 20 epochs with batch size equals to 5."
      ]
    },
    {
      "cell_type": "code",
      "metadata": {
        "id": "ivmHGOKN-t4k",
        "outputId": "739323b4-f6c1-40ba-c037-9664445e837a",
        "colab": {
          "base_uri": "https://localhost:8080/"
        }
      },
      "source": [
        "\n",
        "model = create_model()\n",
        "\n",
        "model.fit(X, Y_one_hot, epochs=20, batch_size=5)"
      ],
      "execution_count": 17,
      "outputs": [
        {
          "output_type": "stream",
          "name": "stdout",
          "text": [
            "Epoch 1/20\n",
            "30/30 [==============================] - 0s 2ms/step - loss: 1.0153 - accuracy: 0.5772\n",
            "Epoch 2/20\n",
            "30/30 [==============================] - 0s 1ms/step - loss: 0.7449 - accuracy: 0.6644\n",
            "Epoch 3/20\n",
            "30/30 [==============================] - 0s 2ms/step - loss: 0.6510 - accuracy: 0.6644\n",
            "Epoch 4/20\n",
            "30/30 [==============================] - 0s 2ms/step - loss: 0.5888 - accuracy: 0.6644\n",
            "Epoch 5/20\n",
            "30/30 [==============================] - 0s 2ms/step - loss: 0.5493 - accuracy: 0.6644\n",
            "Epoch 6/20\n",
            "30/30 [==============================] - 0s 2ms/step - loss: 0.5184 - accuracy: 0.6779\n",
            "Epoch 7/20\n",
            "30/30 [==============================] - 0s 2ms/step - loss: 0.4960 - accuracy: 0.7383\n",
            "Epoch 8/20\n",
            "30/30 [==============================] - 0s 2ms/step - loss: 0.4748 - accuracy: 0.7181\n",
            "Epoch 9/20\n",
            "30/30 [==============================] - 0s 2ms/step - loss: 0.4644 - accuracy: 0.8255\n",
            "Epoch 10/20\n",
            "30/30 [==============================] - 0s 2ms/step - loss: 0.4518 - accuracy: 0.7651\n",
            "Epoch 11/20\n",
            "30/30 [==============================] - 0s 2ms/step - loss: 0.4401 - accuracy: 0.8188\n",
            "Epoch 12/20\n",
            "30/30 [==============================] - 0s 2ms/step - loss: 0.4258 - accuracy: 0.8322\n",
            "Epoch 13/20\n",
            "30/30 [==============================] - 0s 2ms/step - loss: 0.4184 - accuracy: 0.8523\n",
            "Epoch 14/20\n",
            "30/30 [==============================] - 0s 2ms/step - loss: 0.4025 - accuracy: 0.9195\n",
            "Epoch 15/20\n",
            "30/30 [==============================] - 0s 1ms/step - loss: 0.3932 - accuracy: 0.8255\n",
            "Epoch 16/20\n",
            "30/30 [==============================] - 0s 2ms/step - loss: 0.3909 - accuracy: 0.8658\n",
            "Epoch 17/20\n",
            "30/30 [==============================] - 0s 2ms/step - loss: 0.3800 - accuracy: 0.9463\n",
            "Epoch 18/20\n",
            "30/30 [==============================] - 0s 2ms/step - loss: 0.3677 - accuracy: 0.8792\n",
            "Epoch 19/20\n",
            "30/30 [==============================] - 0s 2ms/step - loss: 0.3530 - accuracy: 0.9060\n",
            "Epoch 20/20\n",
            "30/30 [==============================] - 0s 2ms/step - loss: 0.3527 - accuracy: 0.8993\n"
          ]
        },
        {
          "output_type": "execute_result",
          "data": {
            "text/plain": [
              "<keras.src.callbacks.History at 0x7d88d6636470>"
            ]
          },
          "metadata": {},
          "execution_count": 17
        }
      ]
    },
    {
      "cell_type": "markdown",
      "metadata": {
        "id": "Ky_AtYXTDyyt"
      },
      "source": [
        "## Binary Classification with Sonar Dataset"
      ]
    },
    {
      "cell_type": "markdown",
      "metadata": {
        "id": "y1AAzP8rDMhO"
      },
      "source": [
        "### 1. Load dataset\n",
        "\n",
        "The dataset we will use in this tutorial is the [Sonar dataset](https://archive.ics.uci.edu/ml/datasets/Connectionist+Bench+(Sonar,+Mines+vs.+Rocks)).\n",
        "\n",
        "This is a dataset that describes sonar chirp returns bouncing off different services. The 60 input variables are the strength of the returns at different angles. It is a binary classification problem that requires a model to differentiate rocks from metal cylinders.\n",
        "\n",
        "It is a well-understood dataset. All of the variables are continuous and generally in the range of 0 to 1. The output variable is a string “M” for mine and “R” for rock, which will need to be converted to integers 1 and 0."
      ]
    },
    {
      "cell_type": "code",
      "metadata": {
        "id": "Lbz99VsDCssb"
      },
      "source": [
        "# Binary Classification with Sonar Dataset: Baseline\n",
        "\n",
        "from pandas import read_csv\n",
        "# load dataset\n",
        "dataframe = read_csv(\"/content/sonar.csv\", header=None)\n",
        "dataset = dataframe.values\n",
        "\n",
        "# split into input (X) and output (Y) variables\n",
        "X1 = dataset[:,0:60].astype(float)\n",
        "Y = dataset[:,60]"
      ],
      "execution_count": 4,
      "outputs": []
    },
    {
      "cell_type": "markdown",
      "metadata": {
        "id": "FFfJu1sXLl2X"
      },
      "source": [
        "### 2. Encode output variable\n"
      ]
    },
    {
      "cell_type": "code",
      "metadata": {
        "id": "OzI15A8ELoYC"
      },
      "source": [
        "from sklearn.preprocessing import LabelEncoder\n",
        "\n",
        "# encode class values as integers\n",
        "encoder = LabelEncoder()\n",
        "encoder.fit(Y)\n",
        "encoded_Y = encoder.transform(Y)"
      ],
      "execution_count": 5,
      "outputs": []
    },
    {
      "cell_type": "markdown",
      "metadata": {
        "id": "0hhB461HLtjw"
      },
      "source": [
        "### 3. Define Keras Model\n",
        "\n",
        "Create a Keras model with 1 hidden layer of size 60 and 1 output layer. The layers should have a 'normal' initialization of weights.\n",
        "\n",
        "Compile the model with adam optimizer.\n",
        "\n",
        "We should define a `baseline_model()` funtion that will create the model, compile it and return it."
      ]
    },
    {
      "cell_type": "code",
      "metadata": {
        "id": "0lVz94h7LwYl"
      },
      "source": [
        "from tensorflow.keras.models import Sequential\n",
        "from tensorflow.keras.layers import Dense\n",
        "\n",
        "def create_baseline():\n",
        "\t# create model\n",
        "\tmodel = Sequential()\n",
        "\tmodel.add(Dense(60, input_dim=60, kernel_initializer='normal', activation='relu'))\n",
        "\tmodel.add(Dense(1, kernel_initializer='normal', activation='sigmoid'))\n",
        "\n",
        "\t# Compile model\n",
        "\tmodel.compile(loss='binary_crossentropy', optimizer='adam', metrics=['accuracy'])\n",
        "\n",
        "\treturn model"
      ],
      "execution_count": 12,
      "outputs": []
    },
    {
      "cell_type": "markdown",
      "metadata": {
        "id": "turVjiiWMR_4"
      },
      "source": [
        "### 4. Evaluate model\n",
        "\n",
        "Evaluate the model using stratified cross validation in the scikit-learn framework. Number of splits should be 10."
      ]
    },
    {
      "cell_type": "code",
      "metadata": {
        "id": "JND-sahHMRNY",
        "outputId": "63a4b147-3c6d-4a2e-80ce-3bc2642b48b8",
        "colab": {
          "base_uri": "https://localhost:8080/"
        }
      },
      "source": [
        "from sklearn.model_selection import cross_val_score\n",
        "from sklearn.model_selection import StratifiedKFold\n",
        "from tensorflow.keras.wrappers.scikit_learn import KerasClassifier\n",
        "# evaluate model with dataset\n",
        "estimator = KerasClassifier(build_fn=create_baseline, epochs=100, batch_size=5, verbose=0)\n",
        "kfold = StratifiedKFold(n_splits=10, shuffle=True, random_state=15)\n",
        "results = cross_val_score(estimator, X, encoded_Y, cv=kfold)\n",
        "print(\"Baseline: %.2f%% (%.2f%%)\" % (results.mean()*100, results.std()*100))"
      ],
      "execution_count": 13,
      "outputs": [
        {
          "output_type": "stream",
          "name": "stderr",
          "text": [
            "<ipython-input-13-0c04eed1ade1>:5: DeprecationWarning: KerasClassifier is deprecated, use Sci-Keras (https://github.com/adriangb/scikeras) instead. See https://www.adriangb.com/scikeras/stable/migration.html for help migrating.\n",
            "  estimator = KerasClassifier(build_fn=create_baseline, epochs=100, batch_size=5, verbose=0)\n"
          ]
        },
        {
          "output_type": "stream",
          "name": "stdout",
          "text": [
            "Baseline: 80.71% (7.84%)\n"
          ]
        }
      ]
    },
    {
      "cell_type": "markdown",
      "metadata": {
        "id": "_oKP2BnHM4KI"
      },
      "source": [
        "## Apply Standardization on Dataset\n",
        "\n",
        "An effective data preparation scheme for tabular data when building neural network models is **standardization**. This is where the data is rescaled such that the mean value for each attribute is 0 and the standard deviation is 1. This preserves Gaussian and Gaussian-like distributions whilst normalizing the central tendencies for each attribute.\n",
        "\n",
        "We can use scikit-learn to perform the standardization of our Sonar dataset using the `StandardScaler` class.\n",
        "\n",
        "## Create a pipeline\n",
        "\n",
        "The Scikit-learn pipeline is a wrapper that executes one or more models within a pass of the cross-validation procedure. Here, we can define a pipeline with the StandardScaler followed by our neural network model."
      ]
    },
    {
      "cell_type": "code",
      "source": [],
      "metadata": {
        "id": "xT589aseHa1d"
      },
      "execution_count": null,
      "outputs": []
    },
    {
      "cell_type": "code",
      "metadata": {
        "id": "xIsFIrnjM86W",
        "colab": {
          "base_uri": "https://localhost:8080/"
        },
        "outputId": "48aca8a7-b117-4f3f-a9b3-ba941f3042ef"
      },
      "source": [
        "from sklearn.preprocessing import StandardScaler\n",
        "from sklearn.pipeline import Pipeline\n",
        "\n",
        "# evaluate baseline model with standardized dataset\n",
        "estimators = []\n",
        "estimators.append(('standardize', StandardScaler()))\n",
        "estimators.append(('mlp', KerasClassifier(build_fn=create_baseline, epochs=100, batch_size=5, verbose=0)))\n",
        "\n",
        "\n",
        "\n",
        "pipeline = Pipeline(estimators)"
      ],
      "execution_count": 14,
      "outputs": [
        {
          "output_type": "stream",
          "name": "stderr",
          "text": [
            "<ipython-input-14-1875eda970c7>:7: DeprecationWarning: KerasClassifier is deprecated, use Sci-Keras (https://github.com/adriangb/scikeras) instead. See https://www.adriangb.com/scikeras/stable/migration.html for help migrating.\n",
            "  estimators.append(('mlp', KerasClassifier(build_fn=create_baseline, epochs=100, batch_size=5, verbose=0)))\n"
          ]
        }
      ]
    },
    {
      "cell_type": "markdown",
      "metadata": {
        "id": "nZlS0W8cNeYx"
      },
      "source": [
        "### Evaluate model"
      ]
    },
    {
      "cell_type": "code",
      "metadata": {
        "id": "mbodsmh2Ngbt",
        "colab": {
          "base_uri": "https://localhost:8080/"
        },
        "outputId": "c4ea873a-3d93-4c63-ed63-b37f2bf859b7"
      },
      "source": [
        "kfold = StratifiedKFold(n_splits=10, shuffle=True, random_state=15)\n",
        "results = cross_val_score(pipeline, X, encoded_Y, cv=kfold)\n",
        "print(\"Standardized: %.2f%% (%.2f%%)\" % (results.mean()*100, results.std()*100))"
      ],
      "execution_count": 15,
      "outputs": [
        {
          "output_type": "stream",
          "name": "stdout",
          "text": [
            "Standardized: 86.05% (6.60%)\n"
          ]
        }
      ]
    },
    {
      "cell_type": "code",
      "source": [],
      "metadata": {
        "id": "5KVGlHlBMxfE"
      },
      "execution_count": null,
      "outputs": []
    }
  ]
}